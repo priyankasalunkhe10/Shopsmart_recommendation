{
 "cells": [
  {
   "cell_type": "code",
   "execution_count": 1,
   "id": "0b1ca587",
   "metadata": {},
   "outputs": [],
   "source": [
    "import pandas as pd"
   ]
  },
  {
   "cell_type": "code",
   "execution_count": 5,
   "id": "2e64da33",
   "metadata": {},
   "outputs": [],
   "source": [
    "customers = pd.read_csv(\"../csv_files/customers.csv\")\n",
    "products = pd.read_csv(\"../csv_files/products.csv\")\n",
    "transactions = pd.read_csv(\"../csv_files/transactions.csv\")"
   ]
  },
  {
   "cell_type": "code",
   "execution_count": 6,
   "id": "1e8a0221",
   "metadata": {},
   "outputs": [],
   "source": [
    "df = transactions.merge(customers, on='customer_id')"
   ]
  },
  {
   "cell_type": "code",
   "execution_count": 7,
   "id": "993d2dad",
   "metadata": {},
   "outputs": [],
   "source": [
    "df = df.merge(products, on='product_id')"
   ]
  },
  {
   "cell_type": "code",
   "execution_count": 8,
   "id": "e99ddefa",
   "metadata": {},
   "outputs": [],
   "source": [
    "location_product_counts = df.groupby(['location', 'product_id'])['transaction_id'].count().reset_index()"
   ]
  },
  {
   "cell_type": "code",
   "execution_count": 10,
   "id": "ceb3d297",
   "metadata": {},
   "outputs": [],
   "source": [
    "location_product_counts.columns = ['location', 'product_id', 'purchase_count']"
   ]
  },
  {
   "cell_type": "code",
   "execution_count": 11,
   "id": "633f85b3",
   "metadata": {},
   "outputs": [],
   "source": [
    "location_product_counts = location_product_counts.merge(products[['product_id', 'name']], on='product_id')"
   ]
  },
  {
   "cell_type": "code",
   "execution_count": 12,
   "id": "f1802649",
   "metadata": {},
   "outputs": [],
   "source": [
    "def recommend_products_by_location(location, top_n=5):\n",
    "    recommendations = location_product_counts[location_product_counts['location'] == location]\n",
    "    recommendations = recommendations.sort_values(by='purchase_count', ascending=False)\n",
    "    return recommendations[['product_id', 'name']].head(top_n)\n"
   ]
  },
  {
   "cell_type": "code",
   "execution_count": 18,
   "id": "4da7c20c",
   "metadata": {},
   "outputs": [
    {
     "data": {
      "text/html": [
       "<div>\n",
       "<style scoped>\n",
       "    .dataframe tbody tr th:only-of-type {\n",
       "        vertical-align: middle;\n",
       "    }\n",
       "\n",
       "    .dataframe tbody tr th {\n",
       "        vertical-align: top;\n",
       "    }\n",
       "\n",
       "    .dataframe thead th {\n",
       "        text-align: right;\n",
       "    }\n",
       "</style>\n",
       "<table border=\"1\" class=\"dataframe\">\n",
       "  <thead>\n",
       "    <tr style=\"text-align: right;\">\n",
       "      <th></th>\n",
       "      <th>product_id</th>\n",
       "      <th>name</th>\n",
       "    </tr>\n",
       "  </thead>\n",
       "  <tbody>\n",
       "    <tr>\n",
       "      <th>431</th>\n",
       "      <td>3</td>\n",
       "      <td>Smartwatch 169</td>\n",
       "    </tr>\n",
       "    <tr>\n",
       "      <th>432</th>\n",
       "      <td>115</td>\n",
       "      <td>Tablet 494</td>\n",
       "    </tr>\n",
       "    <tr>\n",
       "      <th>433</th>\n",
       "      <td>190</td>\n",
       "      <td>LED Monitor 949</td>\n",
       "    </tr>\n",
       "  </tbody>\n",
       "</table>\n",
       "</div>"
      ],
      "text/plain": [
       "     product_id             name\n",
       "431           3   Smartwatch 169\n",
       "432         115       Tablet 494\n",
       "433         190  LED Monitor 949"
      ]
     },
     "execution_count": 18,
     "metadata": {},
     "output_type": "execute_result"
    }
   ],
   "source": [
    "recommend_products_by_location(\"Sambhal\", top_n=5)\n"
   ]
  },
  {
   "cell_type": "code",
   "execution_count": 19,
   "id": "4ee31995",
   "metadata": {},
   "outputs": [],
   "source": [
    "import pickle"
   ]
  },
  {
   "cell_type": "code",
   "execution_count": 20,
   "id": "6079ccc9",
   "metadata": {},
   "outputs": [],
   "source": [
    "with open('location_product_counts.pkl', 'wb') as f:\n",
    "    pickle.dump(location_product_counts, f)"
   ]
  },
  {
   "cell_type": "code",
   "execution_count": null,
   "id": "e94790b2",
   "metadata": {},
   "outputs": [],
   "source": []
  }
 ],
 "metadata": {
  "kernelspec": {
   "display_name": "Python (tf_env)",
   "language": "python",
   "name": "tf_env"
  },
  "language_info": {
   "codemirror_mode": {
    "name": "ipython",
    "version": 3
   },
   "file_extension": ".py",
   "mimetype": "text/x-python",
   "name": "python",
   "nbconvert_exporter": "python",
   "pygments_lexer": "ipython3",
   "version": "3.12.7"
  }
 },
 "nbformat": 4,
 "nbformat_minor": 5
}
